{
 "cells": [
  {
   "cell_type": "markdown",
   "id": "309cae83",
   "metadata": {},
   "source": [
    "# Ejercicio1"
   ]
  },
  {
   "cell_type": "markdown",
   "id": "0c54a4a4",
   "metadata": {},
   "source": [
    "## Verificación de instalación de minitorch"
   ]
  },
  {
   "cell_type": "code",
   "execution_count": 8,
   "id": "fcfa6cd2",
   "metadata": {},
   "outputs": [],
   "source": [
    "import minitorch"
   ]
  },
  {
   "cell_type": "markdown",
   "id": "587e8185",
   "metadata": {},
   "source": [
    "## ML Prime"
   ]
  },
  {
   "cell_type": "markdown",
   "id": "fc28f57d",
   "metadata": {},
   "source": [
    "Específicamente, esta es una introducción a la clasificación binaria supervisada con redes neuronales. El objetivo de esta sección es aprender cómo funciona una red neuronal básica para clasificar puntos simples."
   ]
  },
  {
   "cell_type": "markdown",
   "id": "3c908e5a",
   "metadata": {},
   "source": [
    "### Conjunto de datos"
   ]
  },
  {
   "cell_type": "markdown",
   "id": "7e996fc3",
   "metadata": {},
   "source": [
    "Los conjuntos de datos deben ser etiquetados, como ejemplo tenemos un conjunto de datos que tiene una coordenada x1 y otra x2, \n",
    "y tiene una etiqueta asignada que puede ser O y X. Se muestran dos ejemplos de conjunto de datos, podemos ver en que la \n",
    "derecha el conjunto es un poco más dividido.\n",
    "<div style=\"display: flex;\">\n",
    "<img src=\"./img/data1.png\" alt=\"data1\" width=\"200\"/>\n",
    "<img src=\"./img/data2.png\" alt=\"data2\" width=\"200\"/>    \n",
    "</div>    "
   ]
  },
  {
   "cell_type": "markdown",
   "id": "6aae96b8",
   "metadata": {},
   "source": [
    "Otro ejemplo de tipos conjuntos de datos, son el de números escrito a mano como se ve a continuación.\n",
    "<img src=\"img/data_number.png\" alt=\"number\" width=\"200\"/>"
   ]
  },
  {
   "cell_type": "markdown",
   "id": "24e03f5f",
   "metadata": {},
   "source": [
    "Ya teniendo un conjunto de datos debemos tener un modelo que se ajuste a los datos. En los modelos contamos con un límite de decisión que separa los datos con etiquetas diferentes, puede haber uno o más límites de decisión.\n",
    "\n",
    "<img src=\"img/model1.png\" alt=\"model1\" width=\"200\"/>\n"
   ]
  },
  {
   "cell_type": "markdown",
   "id": "2de19a8d",
   "metadata": {},
   "source": [
    "Los modelos también pueden adoptar muchas formas, no solo usan líneas rectas para separar los datos con etiquetas diferentes.\n",
    "<div style=\"display: flex;\">\n",
    "<img src=\"./img/modelv1.png\" alt=\"modelv1\" width=\"200\"/>\n",
    "<img src=\"./img/modelv2.png\" alt=\"modelv2\" width=\"200\"/>    \n",
    "</div> "
   ]
  },
  {
   "cell_type": "markdown",
   "id": "421a980b",
   "metadata": {},
   "source": [
    "### Parametros\n",
    "Una vez ya tenemos un modelo, debemos tener la capacidad de poder variar las propiedades del modelo. En el caso para un modelo lineal podemos varias las siguientes propiedades.\n",
    "* Rotando el separador lineal (\"pendiente\")\n",
    "<img src=\"img/param1.png\" alt=\"model1\" width=\"300\"/>\n",
    "* Moviendo el corte del separador (\"intercepto\")\n",
    "<img src=\"img/param1.png\" alt=\"model1\" width=\"300\"/>\n"
   ]
  },
  {
   "cell_type": "markdown",
   "id": "dedb63b2",
   "metadata": {},
   "source": [
    "En el caso de modelos lineales y clasificación binaria, podemos escribir el modelo lineal como:\n",
    "$$ m(x_1, x_2, w_1, w_2, b) = x_1 x w_1 + x_2 x w_2 + b $$\n",
    "Aquí $w_1 , w_2, b $ son parámetros, $x_1, x_ 2$ son el punto de entrada, y el modelo predice $X$ si mes mayor que $1$ y $O$ en caso contrario. "
   ]
  },
  {
   "cell_type": "markdown",
   "id": "827570e0",
   "metadata": {},
   "source": [
    "### Perdida\n",
    "Los modelos pueden ser buenos o malos al momento de clasificar los datos. Entonces para saber si un modelo es bueno o malo usamos una función de perdida. En este caso la función de perdida se basará en la distancia y dirección que un punto al límite de decisión.\n",
    "\n",
    "<img src=\"img/distance.png\" alt=\"distance\" width=\"200\"/>"
   ]
  },
  {
   "cell_type": "markdown",
   "id": "bd7d3558",
   "metadata": {},
   "source": [
    "La función de perdida más utilizada en la sigmoide. Para entradas fuertes negativas, va a cero, y para fuertes positivas, va a 1. En el medio, forma una curva en S suave.\n",
    "<img src=\"img/sigmoid.png\" alt=\"sigmoid\" width=\"200\"/>"
   ]
  },
  {
   "cell_type": "markdown",
   "id": "e0699369",
   "metadata": {},
   "source": [
    "### Parámetros de ajuste\n",
    "Una vez que ya tenemos un modelo y una función de perdida, tenemos que obtener los mejores parámetros para que nuestro modelo sea bueno. Pero esta una tarea pesada ya que modelos robustos pueden llegar a tener millones de parámetros. \n",
    "En nuestro caso solo tenemos 3 parámetros, y para poder encontrar los parámetros que mejor rendimiento nos brinde utilizaremos el descenso del gradiente.\n",
    "* Calcule la función de pérdida, L, para los datos con los parámetros.\n",
    "* Vea cómo los pequeños cambios en cada uno de los parámetros cambiarían la pérdida.\n",
    "* Actualice los parámetros con un pequeño cambio en la dirección que localmente reduzca más la pérdida.\n",
    "Ver lo pequeños cambios que puede causar cada parámetro, no es la mejor idea para un modelo robusto, una mejor opción es tomar la función de perdida y derivarla en función de los parámetros que estamos optimizando, obtendremos la dirección en la que deberíamos movernos para mejorar el rendimiento del modelo.\n"
   ]
  },
  {
   "cell_type": "markdown",
   "id": "a74b22bb",
   "metadata": {},
   "source": [
    "### Redes Neuronales\n",
    "Nuestro modelo sirve separar solo linealmente conjunto de datos, pero existe conjunto de datos que no se les pude aplicar esa división. Es donde las redes neuronales nos pueden ayudar ya que pueden utilizar una gama de separadores más grandes.\n",
    "Podemos ver a las rede neuronales que abordan el problema en etapas, y en cada etapa utilizan un modelo lineal.\n",
    "Una red neuronal puede producir primero un separador (amarillo) para separar los puntos rojos superiores:\n",
    "<img src=\"img/1.png\" alt=\"1\" width=\"200\"/>\n",
    "Y luego produce otro separador (verde) para separar los puntos rojos inferiores:\n",
    "<img src=\"img/2.png\" alt=\"distance\" width=\"200\"/>\n",
    "Y al final obtendríamos \n",
    "<img src=\"img/3.png\" alt=\"distance\" width=\"200\"/>\n"
   ]
  },
  {
   "cell_type": "code",
   "execution_count": null,
   "id": "5f0fdb0a",
   "metadata": {},
   "outputs": [],
   "source": []
  }
 ],
 "metadata": {
  "kernelspec": {
   "display_name": "Python 3",
   "language": "python",
   "name": "python3"
  },
  "language_info": {
   "codemirror_mode": {
    "name": "ipython",
    "version": 3
   },
   "file_extension": ".py",
   "mimetype": "text/x-python",
   "name": "python",
   "nbconvert_exporter": "python",
   "pygments_lexer": "ipython3",
   "version": "3.9.4"
  }
 },
 "nbformat": 4,
 "nbformat_minor": 5
}
