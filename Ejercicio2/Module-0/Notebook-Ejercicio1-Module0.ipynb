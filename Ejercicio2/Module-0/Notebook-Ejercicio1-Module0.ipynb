{
 "cells": [
  {
   "cell_type": "markdown",
   "id": "be517ea4",
   "metadata": {},
   "source": [
    "# Notebook-Ejercicio1-Module0"
   ]
  },
  {
   "cell_type": "code",
   "execution_count": 4,
   "id": "16230902",
   "metadata": {},
   "outputs": [
    {
     "name": "stdout",
     "output_type": "stream",
     "text": [
      "============================= test session starts =============================\n",
      "platform win32 -- Python 3.9.4, pytest-6.0.1, py-1.10.0, pluggy-0.13.1\n",
      "hypothesis profile 'default' -> database=DirectoryBasedExampleDatabase('C:\\\\Users\\\\juni_\\\\Desktop\\\\Minitorch\\\\Ejercicio2\\\\Module-0\\\\.hypothesis\\\\examples')\n",
      "rootdir: C:\\Users\\juni_\\Desktop\\Minitorch\\Ejercicio2\\Module-0, configfile: pytest.ini\n",
      "plugins: hypothesis-4.38.0\n",
      "collected 9 items\n",
      "\n",
      "tests\\test_operators.py .........                                        [100%]\n",
      "\n",
      "============================== 9 passed in 0.81s ==============================\n"
     ]
    }
   ],
   "source": [
    "!python -m pytest tests\\test_operators.py -k task"
   ]
  },
  {
   "cell_type": "code",
   "execution_count": 1,
   "id": "34395e0a",
   "metadata": {},
   "outputs": [
    {
     "name": "stdout",
     "output_type": "stream",
     "text": [
      "============================= test session starts =============================\n",
      "platform win32 -- Python 3.9.4, pytest-6.0.1, py-1.10.0, pluggy-0.13.1\n",
      "hypothesis profile 'default' -> database=DirectoryBasedExampleDatabase('C:\\\\Users\\\\juni_\\\\Desktop\\\\Minitorch\\\\Ejercicio2\\\\Module-0\\\\.hypothesis\\\\examples')\n",
      "rootdir: C:\\Users\\juni_\\Desktop\\Minitorch\\Ejercicio2\\Module-0, configfile: pytest.ini\n",
      "plugins: hypothesis-4.38.0\n",
      "collected 9 items\n",
      "\n",
      "tests\\test_operators.py .........                                        [100%]\n",
      "\n",
      "============================== 9 passed in 0.82s ==============================\n"
     ]
    }
   ],
   "source": [
    "!python -m pytest tests\\test_operators.py"
   ]
  },
  {
   "cell_type": "markdown",
   "id": "6b8064eb",
   "metadata": {},
   "source": [
    "## Task 0.5: Visualization"
   ]
  },
  {
   "cell_type": "code",
   "execution_count": null,
   "id": "5e1aaa0b",
   "metadata": {},
   "outputs": [],
   "source": [
    "from project.datasets import Simple, Split, Xor"
   ]
  },
  {
   "cell_type": "code",
   "execution_count": null,
   "id": "30ecb8d6",
   "metadata": {},
   "outputs": [],
   "source": [
    "def classifyForSimple(pt):\n",
    "    \"Clasificación en base a la posición x\"\n",
    "    if pt[0] < 0.5:\n",
    "        return 1.0\n",
    "    else:\n",
    "        return 0.0\n",
    "\n",
    "N = 100\n",
    "Simple(N, vis=True).graph(\"initial\", model=classifyForSimple)"
   ]
  },
  {
   "cell_type": "code",
   "execution_count": null,
   "id": "57ac08de",
   "metadata": {},
   "outputs": [],
   "source": [
    "def classifyForSplit(pt):\n",
    "    \"Clasificación en base a la posición x\"\n",
    "    if pt[0] < 0.2 or pt[0] >  0.8:\n",
    "        return 1.0\n",
    "    else:\n",
    "        return 0.0\n",
    "\n",
    "N = 100\n",
    "Split(N, vis=True).graph(\"initial\", model=classifyForSplit)"
   ]
  },
  {
   "cell_type": "code",
   "execution_count": null,
   "id": "5d409fa6",
   "metadata": {},
   "outputs": [],
   "source": [
    "def classifyForXor(pt):\n",
    "    \"Clasificación en base a la posición x e y\"\n",
    "    if (pt[0] < 0.5 and pt[1] >  0.5) or (pt[0] > 0.5 and pt[1] < 0.5):\n",
    "        return 1.0\n",
    "    else:\n",
    "        return 0.0\n",
    "\n",
    "N = 100\n",
    "Xor(N, vis=True).graph(\"initial\", model=classifyForXor)"
   ]
  }
 ],
 "metadata": {
  "kernelspec": {
   "display_name": "Python 3",
   "language": "python",
   "name": "python3"
  },
  "language_info": {
   "codemirror_mode": {
    "name": "ipython",
    "version": 3
   },
   "file_extension": ".py",
   "mimetype": "text/x-python",
   "name": "python",
   "nbconvert_exporter": "python",
   "pygments_lexer": "ipython3",
   "version": "3.9.4"
  }
 },
 "nbformat": 4,
 "nbformat_minor": 5
}
