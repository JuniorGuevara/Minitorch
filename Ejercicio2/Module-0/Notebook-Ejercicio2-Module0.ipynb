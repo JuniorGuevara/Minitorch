{
 "cells": [
  {
   "cell_type": "markdown",
   "id": "be517ea4",
   "metadata": {},
   "source": [
    "# Notebook-Ejercicio2-Module0"
   ]
  },
  {
   "cell_type": "markdown",
   "id": "5358579a",
   "metadata": {},
   "source": [
    "## Tarea 0.1: Operadores\n",
    "Se nos pide completar las funciones en `minitorch/operator.py` y pasar las pruebas marcadas como task0_1 .\n",
    "\n",
    "A continuación, se muestra las funciones ya implementadas, así mismo estas funciones están en `minitorch/operator.py`"
   ]
  },
  {
   "cell_type": "code",
   "execution_count": 1,
   "id": "c50e0564",
   "metadata": {},
   "outputs": [],
   "source": [
    "def mul(x, y):\n",
    "    \":math:`f(x, y) = x * y`\"\n",
    "    # TODO: Implement for Task 0.1.\n",
    "    return x * y\n",
    "    raise NotImplementedError('Need to implement for Task 0.1')"
   ]
  },
  {
   "cell_type": "code",
   "execution_count": 2,
   "id": "9a0bd6b5",
   "metadata": {},
   "outputs": [],
   "source": [
    "def id(x):\n",
    "    \":math:`f(x) = x`\"\n",
    "    # TODO: Implement for Task 0.1.\n",
    "    return x\n",
    "    raise NotImplementedError('Need to implement for Task 0.1')"
   ]
  },
  {
   "cell_type": "code",
   "execution_count": 3,
   "id": "ecfa7235",
   "metadata": {},
   "outputs": [],
   "source": [
    "def add(x, y):\n",
    "    \":math:`f(x, y) = x + y`\"\n",
    "    # TODO: Implement for Task 0.1.\n",
    "    return x + y\n",
    "    raise NotImplementedError('Need to implement for Task 0.1')"
   ]
  },
  {
   "cell_type": "code",
   "execution_count": 4,
   "id": "ed9a094c",
   "metadata": {},
   "outputs": [],
   "source": [
    "def neg(x):\n",
    "    \":math:`f(x) = -x`\"\n",
    "    # TODO: Implement for Task 0.1.\n",
    "    return -x\n",
    "    raise NotImplementedError('Need to implement for Task 0.1')"
   ]
  },
  {
   "cell_type": "code",
   "execution_count": 5,
   "id": "417e3733",
   "metadata": {},
   "outputs": [],
   "source": [
    "def lt(x, y):\n",
    "    \":math:`f(x) =` 1.0 if x is less than y else 0.0\"\n",
    "    # TODO: Implement for Task 0.1.\n",
    "    return 1.0 if x < y else 0.0\n",
    "    raise NotImplementedError('Need to implement for Task 0.1')"
   ]
  },
  {
   "cell_type": "code",
   "execution_count": 6,
   "id": "e3f266c4",
   "metadata": {},
   "outputs": [],
   "source": [
    "def eq(x, y):\n",
    "    \":math:`f(x) =` 1.0 if x is equal to y else 0.0\"\n",
    "    # TODO: Implement for Task 0.1.\n",
    "    return 1.0 if x == y else 0.0\n",
    "    raise NotImplementedError('Need to implement for Task 0.1')"
   ]
  },
  {
   "cell_type": "code",
   "execution_count": 7,
   "id": "4f32f4c9",
   "metadata": {},
   "outputs": [],
   "source": [
    "def max(x, y):\n",
    "    \":math:`f(x) =` x if x is greater than y else y\"\n",
    "    # TODO: Implement for Task 0.1.\n",
    "    return x if x > y else y\n",
    "    raise NotImplementedError('Need to implement for Task 0.1')"
   ]
  },
  {
   "cell_type": "code",
   "execution_count": 8,
   "id": "c425adb9",
   "metadata": {},
   "outputs": [],
   "source": [
    "def sigmoid(x):\n",
    "    r\"\"\"\n",
    "    :math:`f(x) =  \\frac{1.0}{(1.0 + e^{-x})}`\n",
    "\n",
    "    (See `<https://en.wikipedia.org/wiki/Sigmoid_function>`_ .)\n",
    "\n",
    "    Calculate as\n",
    "\n",
    "    :math:`f(x) =  \\frac{1.0}{(1.0 + e^{-x})}` if x >=0 else\n",
    "    :math:`\\frac{e^x}{(1.0 + e^{x})}`\n",
    "\n",
    "    for stability.\n",
    "\n",
    "    \"\"\"\n",
    "    # TODO: Implement for Task 0.1.\n",
    "    if x >= 0:\n",
    "        return (1.0 / (1.0 + np.exp(-x)))\n",
    "    else:\n",
    "        return (np.exp(x) / (1.0 + np.exp(x)))\n",
    "    raise NotImplementedError('Need to implement for Task 0.1')"
   ]
  },
  {
   "cell_type": "code",
   "execution_count": 9,
   "id": "0b92050e",
   "metadata": {},
   "outputs": [],
   "source": [
    "def relu(x):\n",
    "    \"\"\"\n",
    "    :math:`f(x) =` x if x is greater than 0, else 0\n",
    "\n",
    "    (See `<https://en.wikipedia.org/wiki/Rectifier_(neural_networks)>`_ .)\n",
    "    \"\"\"\n",
    "    # TODO: Implement for Task 0.1.\n",
    "    return x if x > 0 else 0\n",
    "    raise NotImplementedError('Need to implement for Task 0.1')"
   ]
  },
  {
   "cell_type": "code",
   "execution_count": 10,
   "id": "95347048",
   "metadata": {},
   "outputs": [],
   "source": [
    "def relu_back(x, y):\n",
    "    \":math:`f(x) =` y if x is greater than 0 else 0\"\n",
    "    # TODO: Implement for Task 0.1.\n",
    "    return y if x > 0 else 0\n",
    "    raise NotImplementedError('Need to implement for Task 0.1')"
   ]
  },
  {
   "cell_type": "markdown",
   "id": "8718b958",
   "metadata": {},
   "source": [
    "### Tests\n",
    "Ahora se van a correr los tests respectivos para task0_1"
   ]
  },
  {
   "cell_type": "code",
   "execution_count": 11,
   "id": "dea5fd88",
   "metadata": {},
   "outputs": [
    {
     "name": "stdout",
     "output_type": "stream",
     "text": [
      "============================= test session starts =============================\n",
      "platform win32 -- Python 3.9.4, pytest-6.0.1, py-1.10.0, pluggy-0.13.1\n",
      "hypothesis profile 'default' -> database=DirectoryBasedExampleDatabase('C:\\\\Users\\\\juni_\\\\Desktop\\\\Minitorch\\\\Ejercicio2\\\\Module-0\\\\.hypothesis\\\\examples')\n",
      "rootdir: C:\\Users\\juni_\\Desktop\\Minitorch\\Ejercicio2\\Module-0, configfile: pytest.ini\n",
      "plugins: hypothesis-4.38.0\n",
      "collected 9 items / 7 deselected / 2 selected\n",
      "\n",
      "tests\\test_operators.py ..                                               [100%]\n",
      "\n",
      "======================= 2 passed, 7 deselected in 0.21s =======================\n"
     ]
    }
   ],
   "source": [
    "!python -m pytest tests\\test_operators.py -k task0_1"
   ]
  },
  {
   "cell_type": "markdown",
   "id": "cc49b3fa",
   "metadata": {},
   "source": [
    "## Tarea 0.2: Prueba y depuración\n",
    "\n",
    "Se nos pide completar las funciones de prueba en `tests/test_operators.py` marcadas como task0_2.\n",
    "\n",
    "A continuación, se muestra solo las implementaciones de las funciones correspondientes a la task0_2, las funciones están comentados ya que solo muestran un fragmento de código y nos darían error, para ver el código completo se encuentra en     `tests/test_operators.py`"
   ]
  },
  {
   "cell_type": "code",
   "execution_count": 12,
   "id": "41aa7c5c",
   "metadata": {
    "scrolled": false,
    "tags": [
     "raises-exception",
     "nbval"
    ]
   },
   "outputs": [],
   "source": [
    "# @pytest.mark.task0_2\n",
    "# @given(small_floats, small_floats)\n",
    "# def test_symmetric(x, y):\n",
    "#     \"\"\"\n",
    "#     Write a test that ensures that :func:`minitorch.operators.mul`\n",
    "#     is symmetric, i.e. gives the same value regardless of the order\n",
    "#     of its input.\n",
    "#     \"\"\"\n",
    "#     # TODO: Implement for Task 0.2.\n",
    "#     assert operators.mul(x, y) == operators.mul(y, x)\n",
    "#     return\n",
    "#    raise NotImplementedError('Need to implement for Task 0.2')"
   ]
  },
  {
   "cell_type": "code",
   "execution_count": 13,
   "id": "cf739c92",
   "metadata": {},
   "outputs": [],
   "source": [
    "# @pytest.mark.task0_2\n",
    "# @given(small_floats, small_floats, small_floats)\n",
    "# def test_distribute(z, x, y):\n",
    "#     r\"\"\"\n",
    "#     Write a test that ensures that your operators distribute, i.e.\n",
    "#     :math:`z \\times (x + y) = z \\times x + z \\times y`\n",
    "#     \"\"\"\n",
    "#     # TODO: Implement for Task 0.2.\n",
    "#     value_one = operators.mul(z, operators.add(x, y))\n",
    "#     value_two = operators.add(operators.mul(z, x), operators.mul(z, y))\n",
    "#     assert_close(value_one, value_two)\n",
    "#     return\n",
    "#     raise NotImplementedError('Need to implement for Task 0.2')"
   ]
  },
  {
   "cell_type": "code",
   "execution_count": 14,
   "id": "b2652ec2",
   "metadata": {},
   "outputs": [],
   "source": [
    "# @pytest.mark.task0_2\n",
    "# @given(small_floats, small_floats)\n",
    "# def test_other(x, y):\n",
    "#     \"\"\"\n",
    "#     Write a test that ensures some other property holds for your functions.\n",
    "#     \"\"\"\n",
    "#     # TODO: Implement for Task 0.2.\n",
    "#     if x == y:\n",
    "#         assert operators.eq(x, y) == 1\n",
    "#     else:\n",
    "#         assert operators.eq(x, y) == 0\n",
    "#     return\n",
    "#     raise NotImplementedError('Need to implement for Task 0.2')"
   ]
  },
  {
   "cell_type": "markdown",
   "id": "ee743871",
   "metadata": {},
   "source": [
    "### Tests\n",
    "Ahora se van a correr los tests respectivos para task0_2"
   ]
  },
  {
   "cell_type": "code",
   "execution_count": 15,
   "id": "16230902",
   "metadata": {},
   "outputs": [
    {
     "name": "stdout",
     "output_type": "stream",
     "text": [
      "============================= test session starts =============================\n",
      "platform win32 -- Python 3.9.4, pytest-6.0.1, py-1.10.0, pluggy-0.13.1\n",
      "hypothesis profile 'default' -> database=DirectoryBasedExampleDatabase('C:\\\\Users\\\\juni_\\\\Desktop\\\\Minitorch\\\\Ejercicio2\\\\Module-0\\\\.hypothesis\\\\examples')\n",
      "rootdir: C:\\Users\\juni_\\Desktop\\Minitorch\\Ejercicio2\\Module-0, configfile: pytest.ini\n",
      "plugins: hypothesis-4.38.0\n",
      "collected 9 items / 6 deselected / 3 selected\n",
      "\n",
      "tests\\test_operators.py ...                                              [100%]\n",
      "\n",
      "======================= 3 passed, 6 deselected in 0.28s =======================\n"
     ]
    }
   ],
   "source": [
    "!python -m pytest tests\\test_operators.py -k task0_2"
   ]
  },
  {
   "cell_type": "markdown",
   "id": "4ccaf8ac",
   "metadata": {},
   "source": [
    "## Tarea 0.3: Python funcional\n",
    "Se nos pide completar las funciones en `minitorch/operator.py` y pase las pruebas marcadas como tasks0_3.\n"
   ]
  },
  {
   "cell_type": "code",
   "execution_count": 16,
   "id": "0ff8e90d",
   "metadata": {},
   "outputs": [],
   "source": [
    "def map(fn):\n",
    "    \"\"\"\n",
    "    Higher-order map.\n",
    "\n",
    "    .. image:: figs/Ops/maplist.png\n",
    "\n",
    "\n",
    "    See `<https://en.wikipedia.org/wiki/Map_(higher-order_function)>`_\n",
    "\n",
    "    Args:\n",
    "        fn (one-arg function): process one value\n",
    "\n",
    "    Returns:\n",
    "        function : a function that takes a list and applies `fn`\n",
    "                   to each element\n",
    "    \"\"\"\n",
    "    # TODO: Implement for Task 0.3.\n",
    "    def fn_map(ls):\n",
    "        new_ls = []\n",
    "        for value in ls:\n",
    "            new_ls.append(fn(value))\n",
    "        return new_ls\n",
    "\n",
    "    return lambda ls: fn_map(ls)\n",
    "    raise NotImplementedError('Need to implement for Task 0.3')"
   ]
  },
  {
   "cell_type": "code",
   "execution_count": 17,
   "id": "bbad4f3c",
   "metadata": {},
   "outputs": [],
   "source": [
    "def zipWith(fn):\n",
    "    \"\"\"\n",
    "    Higher-order zipwith (or map2).\n",
    "\n",
    "    .. image:: figs/Ops/ziplist.png\n",
    "\n",
    "    See `<https://en.wikipedia.org/wiki/Map_(higher-order_function)>`_\n",
    "\n",
    "    Args:\n",
    "        fn (two-arg function): combine two values\n",
    "\n",
    "    Returns:\n",
    "        function : takes two equally sized lists `ls1` and `ls2`, produce\n",
    "        a new list by applying fn(x, y) one each pair of elements.\n",
    "\n",
    "    \"\"\"\n",
    "    # TODO: Implement for Task 0.3.\n",
    "    def fn_map(iterable_l1, iterable_l2):\n",
    "        new_ls = []\n",
    "        for value_1, value_2 in zip(iterable_l1, iterable_l2):\n",
    "            new_ls.append(fn(value_1, value_2))\n",
    "        return new_ls\n",
    "\n",
    "    return lambda l1, l2: fn_map(l1, l2)\n",
    "    raise NotImplementedError('Need to implement for Task 0.3')"
   ]
  },
  {
   "cell_type": "code",
   "execution_count": 18,
   "id": "fac2514e",
   "metadata": {},
   "outputs": [],
   "source": [
    "def reduce(fn, start):\n",
    "    r\"\"\"\n",
    "    Higher-order reduce.\n",
    "\n",
    "    .. image:: figs/Ops/reducelist.png\n",
    "\n",
    "\n",
    "    Args:\n",
    "        fn (two-arg function): combine two values\n",
    "        start (float): start value :math:`x_0`\n",
    "\n",
    "    Returns:\n",
    "        function : function that takes a list `ls` of elements\n",
    "        :math:`x_1 \\ldots x_n` and computes the reduction\n",
    "        :math:`fn(x_3, fn(x_2, fn(x_1, x_0)))`\n",
    "\n",
    "    \"\"\"\n",
    "    # TODO: Implement for Task 0.3.\n",
    "    def fn_reduce(ls):\n",
    "        it = iter(ls)\n",
    "        if start is None:\n",
    "            value = next(it)\n",
    "        else:\n",
    "            value = start\n",
    "        for element in it:\n",
    "            value = fn(value, element)\n",
    "        return value\n",
    "\n",
    "    return lambda ls: fn_reduce(ls)\n",
    "    raise NotImplementedError('Need to implement for Task 0.3')"
   ]
  },
  {
   "cell_type": "code",
   "execution_count": 19,
   "id": "d6c108d8",
   "metadata": {},
   "outputs": [],
   "source": [
    "def sum(ls):\n",
    "    \"\"\"\n",
    "    Sum up a list using :func:`reduce` and :func:`add`.\n",
    "    \"\"\"\n",
    "    # TODO: Implement for Task 0.3.\n",
    "    return reduce(add, 0)(ls)\n",
    "    raise NotImplementedError('Need to implement for Task 0.3')"
   ]
  },
  {
   "cell_type": "code",
   "execution_count": 20,
   "id": "f85509c0",
   "metadata": {},
   "outputs": [],
   "source": [
    "def prod(ls):\n",
    "    \"\"\"\n",
    "    Product of a list using :func:`reduce` and :func:`mul`.\n",
    "    \"\"\"\n",
    "    # TODO: Implement for Task 0.3.\n",
    "    return reduce(mul, 1)(ls)\n",
    "    raise NotImplementedError('Need to implement for Task 0.3')"
   ]
  },
  {
   "cell_type": "markdown",
   "id": "01c62a04",
   "metadata": {},
   "source": [
    "### Tests\n",
    "Ahora se van a correr los tests respectivos para task0_3"
   ]
  },
  {
   "cell_type": "code",
   "execution_count": 21,
   "id": "34395e0a",
   "metadata": {},
   "outputs": [
    {
     "name": "stdout",
     "output_type": "stream",
     "text": [
      "============================= test session starts =============================\n",
      "platform win32 -- Python 3.9.4, pytest-6.0.1, py-1.10.0, pluggy-0.13.1\n",
      "hypothesis profile 'default' -> database=DirectoryBasedExampleDatabase('C:\\\\Users\\\\juni_\\\\Desktop\\\\Minitorch\\\\Ejercicio2\\\\Module-0\\\\.hypothesis\\\\examples')\n",
      "rootdir: C:\\Users\\juni_\\Desktop\\Minitorch\\Ejercicio2\\Module-0, configfile: pytest.ini\n",
      "plugins: hypothesis-4.38.0\n",
      "collected 9 items / 5 deselected / 4 selected\n",
      "\n",
      "tests\\test_operators.py ....                                             [100%]\n",
      "\n",
      "======================= 4 passed, 5 deselected in 0.65s =======================\n"
     ]
    }
   ],
   "source": [
    "!python -m pytest tests\\test_operators.py -k task0_3"
   ]
  },
  {
   "cell_type": "markdown",
   "id": "bc020c09",
   "metadata": {},
   "source": [
    "## Tarea 0.4: Módulos\n",
    "Se nos pide completar las funciones en `minitorch/module.py` y pasar las pruebas marcadas como tasks0_4.\n",
    "\n",
    "A continuación, se muestra solo las implementaciones de las funciones correspondientes a la task0_4, para ver el código completo se encuentra en `minitorch/module.py`."
   ]
  },
  {
   "cell_type": "code",
   "execution_count": 22,
   "id": "e54902e6",
   "metadata": {},
   "outputs": [],
   "source": [
    "def train(self):\n",
    "        \"Set the mode of this module and all descendent modules to `train`.\"\n",
    "        # TODO: Implement for Task 0.4.\n",
    "        self.mode = 'train'\n",
    "        for module in self.modules():\n",
    "            module.mode = 'train'\n",
    "            module.train()\n",
    "        # raise NotImplementedError('Need to implement for Task 0.4')"
   ]
  },
  {
   "cell_type": "code",
   "execution_count": 23,
   "id": "063922f3",
   "metadata": {},
   "outputs": [],
   "source": [
    "def eval(self):\n",
    "        \"Set the mode of this module and all descendent modules to `eval`.\"\n",
    "        # TODO: Implement for Task 0.4.\n",
    "        self.mode = 'eval'\n",
    "        for module in self.modules():\n",
    "            module.mode = 'eval'\n",
    "            module.eval()\n",
    "        # raise NotImplementedError('Need to implement for Task 0.4')"
   ]
  },
  {
   "cell_type": "code",
   "execution_count": 24,
   "id": "6069040c",
   "metadata": {},
   "outputs": [],
   "source": [
    "def named_parameters(self):\n",
    "        \"\"\"\n",
    "        Collect all the parameters of this module and its descendents.\n",
    "\n",
    "\n",
    "        Returns:\n",
    "            dict: Each name (key) and :class:`Parameter` (value)\n",
    "            under this module.\n",
    "        \"\"\"\n",
    "        # TODO: Implement for Task 0.4.\n",
    "        child_param = {}\n",
    "        for key, module in self._modules.items():\n",
    "            tmp = module.named_parameters()\n",
    "            tmp = {f'{key}.{k}': v for k, v in tmp.items()}\n",
    "            child_param = dict(**child_param, **tmp)\n",
    "\n",
    "        if child_param:\n",
    "            return dict(**self.__dict__['_parameters'], **child_param)\n",
    "        else:\n",
    "            return self.__dict__['_parameters']\n",
    "        raise NotImplementedError('Need to implement for Task 0.4')"
   ]
  },
  {
   "cell_type": "markdown",
   "id": "211b240d",
   "metadata": {},
   "source": [
    "### Tests\n",
    "Ahora se van a correr los tests respectivos para task0_4"
   ]
  },
  {
   "cell_type": "code",
   "execution_count": 25,
   "id": "fa7cf74b",
   "metadata": {},
   "outputs": [
    {
     "name": "stdout",
     "output_type": "stream",
     "text": [
      "============================= test session starts =============================\n",
      "platform win32 -- Python 3.9.4, pytest-6.0.1, py-1.10.0, pluggy-0.13.1\n",
      "hypothesis profile 'default' -> database=DirectoryBasedExampleDatabase('C:\\\\Users\\\\juni_\\\\Desktop\\\\Minitorch\\\\Ejercicio2\\\\Module-0\\\\.hypothesis\\\\examples')\n",
      "rootdir: C:\\Users\\juni_\\Desktop\\Minitorch\\Ejercicio2\\Module-0, configfile: pytest.ini\n",
      "plugins: hypothesis-4.38.0\n",
      "collected 2 items\n",
      "\n",
      "tests\\test_module.py ..                                                  [100%]\n",
      "\n",
      "============================== 2 passed in 0.04s ==============================\n"
     ]
    }
   ],
   "source": [
    "!python -m pytest tests\\test_module.py -k task0_4"
   ]
  },
  {
   "cell_type": "markdown",
   "id": "dde9ed2b",
   "metadata": {},
   "source": [
    "Finalmente se van a correr todos lo tests:"
   ]
  },
  {
   "cell_type": "code",
   "execution_count": 26,
   "id": "7dfe8f60",
   "metadata": {},
   "outputs": [
    {
     "name": "stdout",
     "output_type": "stream",
     "text": [
      "============================= test session starts =============================\n",
      "platform win32 -- Python 3.9.4, pytest-6.0.1, py-1.10.0, pluggy-0.13.1\n",
      "hypothesis profile 'default' -> database=DirectoryBasedExampleDatabase('C:\\\\Users\\\\juni_\\\\Desktop\\\\Minitorch\\\\Ejercicio2\\\\Module-0\\\\.hypothesis\\\\examples')\n",
      "rootdir: C:\\Users\\juni_\\Desktop\\Minitorch\\Ejercicio2\\Module-0, configfile: pytest.ini\n",
      "plugins: hypothesis-4.38.0\n",
      "collected 11 items / 9 deselected / 2 selected\n",
      "\n",
      "tests\\test_operators.py ..                                               [100%]\n",
      "\n",
      "======================= 2 passed, 9 deselected in 0.25s =======================\n",
      "============================= test session starts =============================\n",
      "platform win32 -- Python 3.9.4, pytest-6.0.1, py-1.10.0, pluggy-0.13.1\n",
      "hypothesis profile 'default' -> database=DirectoryBasedExampleDatabase('C:\\\\Users\\\\juni_\\\\Desktop\\\\Minitorch\\\\Ejercicio2\\\\Module-0\\\\.hypothesis\\\\examples')\n",
      "rootdir: C:\\Users\\juni_\\Desktop\\Minitorch\\Ejercicio2\\Module-0, configfile: pytest.ini\n",
      "plugins: hypothesis-4.38.0\n",
      "collected 11 items / 8 deselected / 3 selected\n",
      "\n",
      "tests\\test_operators.py ...                                              [100%]\n",
      "\n",
      "======================= 3 passed, 8 deselected in 0.48s =======================\n",
      "============================= test session starts =============================\n",
      "platform win32 -- Python 3.9.4, pytest-6.0.1, py-1.10.0, pluggy-0.13.1\n",
      "hypothesis profile 'default' -> database=DirectoryBasedExampleDatabase('C:\\\\Users\\\\juni_\\\\Desktop\\\\Minitorch\\\\Ejercicio2\\\\Module-0\\\\.hypothesis\\\\examples')\n",
      "rootdir: C:\\Users\\juni_\\Desktop\\Minitorch\\Ejercicio2\\Module-0, configfile: pytest.ini\n",
      "plugins: hypothesis-4.38.0\n",
      "collected 11 items / 7 deselected / 4 selected\n",
      "\n",
      "tests\\test_operators.py ....                                             [100%]\n",
      "\n",
      "======================= 4 passed, 7 deselected in 0.50s =======================\n",
      "============================= test session starts =============================\n",
      "platform win32 -- Python 3.9.4, pytest-6.0.1, py-1.10.0, pluggy-0.13.1\n",
      "hypothesis profile 'default' -> database=DirectoryBasedExampleDatabase('C:\\\\Users\\\\juni_\\\\Desktop\\\\Minitorch\\\\Ejercicio2\\\\Module-0\\\\.hypothesis\\\\examples')\n",
      "rootdir: C:\\Users\\juni_\\Desktop\\Minitorch\\Ejercicio2\\Module-0, configfile: pytest.ini\n",
      "plugins: hypothesis-4.38.0\n",
      "collected 11 items / 9 deselected / 2 selected\n",
      "\n",
      "tests\\test_module.py ..                                                  [100%]\n",
      "\n",
      "======================= 2 passed, 9 deselected in 0.06s =======================\n",
      "\n",
      "=================\n",
      "Running test 0\n",
      "=================\n",
      "\n",
      "=================\n",
      "Running test 1\n",
      "=================\n",
      "\n",
      "=================\n",
      "Running test 2\n",
      "=================\n",
      "\n",
      "=================\n",
      "Running test 3\n",
      "=================\n",
      "\n",
      "=================\n",
      "Running test 4\n",
      "=================\n"
     ]
    }
   ],
   "source": [
    "!python run_tests.py"
   ]
  },
  {
   "cell_type": "markdown",
   "id": "6b8064eb",
   "metadata": {},
   "source": [
    "## Task 0.5: Visualization"
   ]
  },
  {
   "cell_type": "code",
   "execution_count": 27,
   "id": "5e1aaa0b",
   "metadata": {},
   "outputs": [],
   "source": [
    "from project.datasets import Simple, Split, Xor"
   ]
  },
  {
   "cell_type": "code",
   "execution_count": 28,
   "id": "30ecb8d6",
   "metadata": {},
   "outputs": [
    {
     "name": "stderr",
     "output_type": "stream",
     "text": [
      "Setting up a new session...\n"
     ]
    }
   ],
   "source": [
    "def classifyForSimple(pt):\n",
    "    \"Clasificación en base a la posición x\"\n",
    "    if pt[0] < 0.5:\n",
    "        return 1.0\n",
    "    else:\n",
    "        return 0.0\n",
    "\n",
    "N = 100\n",
    "Simple(N, vis=True).graph(\"Simple\", model=classifyForSimple)"
   ]
  },
  {
   "cell_type": "markdown",
   "id": "f928e6dd",
   "metadata": {},
   "source": [
    "![Simple](img/Simple.png)"
   ]
  },
  {
   "cell_type": "code",
   "execution_count": 29,
   "id": "57ac08de",
   "metadata": {},
   "outputs": [
    {
     "name": "stderr",
     "output_type": "stream",
     "text": [
      "Setting up a new session...\n"
     ]
    }
   ],
   "source": [
    "def classifyForSplit(pt):\n",
    "    \"Clasificación en base a la posición x\"\n",
    "    if pt[0] < 0.2 or pt[0] >  0.8:\n",
    "        return 1.0\n",
    "    else:\n",
    "        return 0.0\n",
    "\n",
    "N = 100\n",
    "Split(N, vis=True).graph(\"Split\", model=classifyForSplit)"
   ]
  },
  {
   "cell_type": "markdown",
   "id": "a8b244c4",
   "metadata": {},
   "source": [
    "![Split](img/Split.png)"
   ]
  },
  {
   "cell_type": "code",
   "execution_count": 30,
   "id": "5d409fa6",
   "metadata": {},
   "outputs": [
    {
     "name": "stderr",
     "output_type": "stream",
     "text": [
      "Setting up a new session...\n"
     ]
    }
   ],
   "source": [
    "def classifyForXor(pt):\n",
    "    \"Clasificación en base a la posición x e y\"\n",
    "    if (pt[0] < 0.5 and pt[1] >  0.5) or (pt[0] > 0.5 and pt[1] < 0.5):\n",
    "        return 1.0\n",
    "    else:\n",
    "        return 0.0\n",
    "\n",
    "N = 100\n",
    "Xor(N, vis=True).graph(\"Xor\", model=classifyForXor)"
   ]
  },
  {
   "cell_type": "markdown",
   "id": "a8445c7c",
   "metadata": {},
   "source": [
    "![Xor](img/Xor.png)"
   ]
  }
 ],
 "metadata": {
  "kernelspec": {
   "display_name": "Python 3",
   "language": "python",
   "name": "python3"
  },
  "language_info": {
   "codemirror_mode": {
    "name": "ipython",
    "version": 3
   },
   "file_extension": ".py",
   "mimetype": "text/x-python",
   "name": "python",
   "nbconvert_exporter": "python",
   "pygments_lexer": "ipython3",
   "version": "3.9.4"
  }
 },
 "nbformat": 4,
 "nbformat_minor": 5
}
