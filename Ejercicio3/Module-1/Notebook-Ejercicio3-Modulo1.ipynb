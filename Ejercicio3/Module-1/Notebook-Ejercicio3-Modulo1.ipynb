{
 "cells": [
  {
   "cell_type": "markdown",
   "id": "c81b1698",
   "metadata": {},
   "source": [
    "## Tarea 1.5: Entrenamiento"
   ]
  },
  {
   "cell_type": "markdown",
   "id": "31689875",
   "metadata": {},
   "source": [
    "~~~\n",
    "PTS = 50\n",
    "DATASET = datasets.Simple(PTS, vis=True)\n",
    "HIDDEN = 2\n",
    "RATE = 0.5\n",
    "~~~"
   ]
  },
  {
   "cell_type": "code",
   "execution_count": 6,
   "id": "cb990423",
   "metadata": {
    "scrolled": true
   },
   "outputs": [
    {
     "name": "stdout",
     "output_type": "stream",
     "text": [
      "Epoch  0  loss  41.1167135313214 correct 26\n",
      "Epoch  10  loss  34.47818796372593 correct 26\n",
      "Epoch  20  loss  34.21138250912107 correct 26\n",
      "Epoch  30  loss  33.84392455875719 correct 26\n",
      "Epoch  40  loss  33.05072251708911 correct 32\n",
      "Epoch  50  loss  31.52400252733184 correct 33\n",
      "Epoch  60  loss  28.124339417174323 correct 35\n",
      "Epoch  70  loss  22.30224079974678 correct 39\n",
      "Epoch  80  loss  15.614559971864438 correct 47\n",
      "Epoch  90  loss  16.441012721039655 correct 42\n",
      "Epoch  100  loss  12.539009181234652 correct 43\n",
      "Epoch  110  loss  9.2764764216304 correct 45\n",
      "Epoch  120  loss  9.091836504702696 correct 45\n",
      "Epoch  130  loss  9.071541462535809 correct 45\n",
      "Epoch  140  loss  6.5409790516966355 correct 47\n",
      "Epoch  150  loss  4.7369430314486936 correct 48\n",
      "Epoch  160  loss  4.350813153666054 correct 48\n",
      "Epoch  170  loss  5.826322939404558 correct 47\n",
      "Epoch  180  loss  13.664191027239278 correct 43\n",
      "Epoch  190  loss  2.285134598586022 correct 50\n",
      "Epoch  200  loss  1.9358102358942448 correct 50\n",
      "Epoch  210  loss  1.6854628206857656 correct 50\n",
      "Epoch  220  loss  1.4850768330238466 correct 50\n",
      "Epoch  230  loss  1.320495837022685 correct 50\n",
      "Epoch  240  loss  1.1835332823831866 correct 50\n",
      "Epoch  250  loss  1.0696386838828293 correct 50\n",
      "Epoch  260  loss  0.972763989861321 correct 50\n",
      "Epoch  270  loss  0.8898742515557918 correct 50\n",
      "Epoch  280  loss  0.8181649722925826 correct 50\n",
      "Epoch  290  loss  0.7555424135459176 correct 50\n",
      "Epoch  300  loss  0.7005106988717713 correct 50\n",
      "Epoch  310  loss  0.651787907423558 correct 50\n",
      "Epoch  320  loss  0.6084206713801836 correct 50\n",
      "Epoch  330  loss  0.569579087962769 correct 50\n",
      "Epoch  340  loss  0.5347334442391884 correct 50\n",
      "Epoch  350  loss  0.5032995204269044 correct 50\n",
      "Epoch  360  loss  0.47486496522056176 correct 50\n",
      "Epoch  370  loss  0.4492802744018595 correct 50\n",
      "Epoch  380  loss  0.4259413346317962 correct 50\n",
      "Epoch  390  loss  0.40455339080149016 correct 50\n",
      "Epoch  400  loss  0.3849102240380841 correct 50\n",
      "Epoch  410  loss  0.3668330293106585 correct 50"
     ]
    },
    {
     "name": "stderr",
     "output_type": "stream",
     "text": [
      "Setting up a new session...\n"
     ]
    },
    {
     "name": "stdout",
     "output_type": "stream",
     "text": [
      "\n",
      "Epoch  420  loss  0.35014342439603263 correct 50\n",
      "Epoch  430  loss  0.3346984259487244 correct 50\n",
      "Epoch  440  loss  0.32037345904786035 correct 50\n",
      "Epoch  450  loss  0.3070592935253568 correct 50\n",
      "Epoch  460  loss  0.29465986854946913 correct 50\n",
      "Epoch  470  loss  0.28309288511321323 correct 50\n",
      "Epoch  480  loss  0.2722679171767586 correct 50\n",
      "Epoch  490  loss  0.2621368466824685 correct 50\n"
     ]
    }
   ],
   "source": [
    "!python .\\project\\run_scalar.py"
   ]
  },
  {
   "cell_type": "markdown",
   "id": "a4f24cc2",
   "metadata": {},
   "source": [
    "![](./img/md1_fig1a.png)\n",
    "![](./img/md1_fig1b.png)    "
   ]
  },
  {
   "cell_type": "code",
   "execution_count": 1,
   "id": "6707a624",
   "metadata": {},
   "outputs": [
    {
     "name": "stdout",
     "output_type": "stream",
     "text": [
      "Epoch  0  loss  37.30907974660817 correct 25\n",
      "Epoch  10  loss  29.51700903482232 correct 34\n",
      "Epoch  20  loss  28.319980384666202 correct 35\n",
      "Epoch  30  loss  27.668055649005908 correct 36\n",
      "Epoch  40  loss  26.016073287624966 correct 39\n",
      "Epoch  50  loss  25.293360423669792 correct 39\n",
      "Epoch  60  loss  23.275823913946464 correct 39\n",
      "Epoch  70  loss  25.13842348481762 correct 38\n",
      "Epoch  80  loss  22.62841702844202 correct 39\n",
      "Epoch  90  loss  20.651967016664845 correct 40\n",
      "Epoch  100  loss  19.872271967180378 correct 40\n",
      "Epoch  110  loss  20.71801794939383 correct 39\n",
      "Epoch  120  loss  19.008922722274633 correct 39\n",
      "Epoch  130  loss  18.698514220216786 correct 39\n",
      "Epoch  140  loss  16.67145219675847 correct 40\n",
      "Epoch  150  loss  16.877201277688954 correct 41\n",
      "Epoch  160  loss  16.428631581630793 correct 41\n",
      "Epoch  170  loss  13.739770895628496 correct 43\n",
      "Epoch  180  loss  14.737076887001127 correct 42\n",
      "Epoch  190  loss  17.199207295973864 correct 40\n",
      "Epoch  200  loss  10.687872443862856 correct 46\n",
      "Epoch  210  loss  21.211010801249643 correct 40\n",
      "Epoch  220  loss  8.335319632426094 correct 48\n",
      "Epoch  230  loss  11.728714861762747 correct 45\n",
      "Epoch  240  loss  7.596133386870239 correct 48\n",
      "Epoch  250  loss  8.183432267921653 correct 47\n"
     ]
    },
    {
     "name": "stderr",
     "output_type": "stream",
     "text": [
      "Setting up a new session...\n"
     ]
    },
    {
     "name": "stdout",
     "output_type": "stream",
     "text": [
      "Epoch  260  loss  9.794867968000673 correct 47\n",
      "Epoch  270  loss  6.018125801928095 correct 49\n",
      "Epoch  280  loss  21.300970597422545 correct 42\n",
      "Epoch  290  loss  5.234240437534619 correct 50\n",
      "Epoch  300  loss  5.3066105892014255 correct 50\n",
      "Epoch  310  loss  7.269407974097578 correct 46\n",
      "Epoch  320  loss  4.717318993250981 correct 50\n",
      "Epoch  330  loss  5.9686666532824555 correct 48\n",
      "Epoch  340  loss  4.565613455975221 correct 50\n",
      "Epoch  350  loss  6.2931341916705055 correct 48\n",
      "Epoch  360  loss  12.147236493213093 correct 44\n",
      "Epoch  370  loss  3.74701187561321 correct 50\n",
      "Epoch  380  loss  3.3562702570555105 correct 50\n",
      "Epoch  390  loss  3.412825089745962 correct 50\n",
      "Epoch  400  loss  4.923452365317328 correct 48\n",
      "Epoch  410  loss  4.811275674341209 correct 48\n",
      "Epoch  420  loss  4.039262630099443 correct 48\n",
      "Epoch  430  loss  4.949198065893217 correct 48\n",
      "Epoch  440  loss  3.9559081148280018 correct 49\n",
      "Epoch  450  loss  3.4777317607641147 correct 50\n",
      "Epoch  460  loss  6.526134033961194 correct 48\n",
      "Epoch  470  loss  4.776131568805321 correct 49\n",
      "Epoch  480  loss  4.310614908016874 correct 50\n",
      "Epoch  490  loss  4.035428669550061 correct 50\n"
     ]
    }
   ],
   "source": [
    "!python .\\project\\run_scalar.py"
   ]
  },
  {
   "cell_type": "markdown",
   "id": "3bbcb01d",
   "metadata": {},
   "source": [
    "![](./img/2a.png)\n",
    "![](./img/2b.png) "
   ]
  },
  {
   "cell_type": "code",
   "execution_count": null,
   "id": "25e1c5a9",
   "metadata": {},
   "outputs": [],
   "source": []
  }
 ],
 "metadata": {
  "kernelspec": {
   "display_name": "Python 3",
   "language": "python",
   "name": "python3"
  },
  "language_info": {
   "codemirror_mode": {
    "name": "ipython",
    "version": 3
   },
   "file_extension": ".py",
   "mimetype": "text/x-python",
   "name": "python",
   "nbconvert_exporter": "python",
   "pygments_lexer": "ipython3",
   "version": "3.9.4"
  }
 },
 "nbformat": 4,
 "nbformat_minor": 5
}
